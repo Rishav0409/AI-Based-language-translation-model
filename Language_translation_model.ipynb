{
  "cells": [
    {
      "cell_type": "code",
      "execution_count": null,
      "metadata": {
        "id": "A0oTN1aFhHk1"
      },
      "outputs": [],
      "source": [
        "import numpy as np\n",
        "import pandas as pd\n",
        "import tensorflow as tf\n",
        "import keras\n",
        "from keras.models import Model\n",
        "from keras.layers import Input, LSTM, Dense,TimeDistributed,Embedding,Bidirectional\n",
        "from keras.preprocessing.text import Tokenizer\n",
        "from keras.preprocessing.sequence import pad_sequences\n",
        "from string import digits\n",
        "import nltk\n",
        "import re\n",
        "import string\n",
        "pd.set_option('display.max_rows', 500)\n",
        "pd.set_option('display.max_columns', 500)\n",
        "pd.set_option('display.width', 1000)\n",
        "pd.set_option('display.max_colwidth' , 0)"
      ]
    },
    {
      "cell_type": "code",
      "execution_count": null,
      "metadata": {
        "colab": {
          "base_uri": "https://localhost:8080/",
          "height": 258
        },
        "id": "brQcOWvyuTQN",
        "outputId": "41699202-07d7-4035-e86b-e3859709dbf5"
      },
      "outputs": [
        {
          "output_type": "execute_result",
          "data": {
            "text/plain": [
              "   Unnamed: 0                                                  english_sentence                                                        hindi_sentence\n",
              "0  0           politicians do not have permission to do what needs to be done.   राजनीतिज्ञों के पास जो कार्य करना चाहिए, वह करने कि अनुमति नहीं है .\n",
              "1  1           I'd like to tell you about one such child,                        मई आपको ऐसे ही एक बच्चे के बारे में बताना चाहूंगी,                  \n",
              "2  2           This percentage is even greater than the percentage in India.     यह प्रतिशत भारत में हिन्दुओं प्रतिशत से अधिक है।                    \n",
              "3  3           what we really mean is that they're bad at not paying attention.  हम ये नहीं कहना चाहते कि वो ध्यान नहीं दे पाते                      \n",
              "4  4           .The ending portion of these Vedas is called Upanishad.           इन्हीं वेदों का अंतिम भाग उपनिषद कहलाता है।                         "
            ],
            "text/html": [
              "\n",
              "  <div id=\"df-84d769c3-3832-4c45-a416-872ea915617e\" class=\"colab-df-container\">\n",
              "    <div>\n",
              "<style scoped>\n",
              "    .dataframe tbody tr th:only-of-type {\n",
              "        vertical-align: middle;\n",
              "    }\n",
              "\n",
              "    .dataframe tbody tr th {\n",
              "        vertical-align: top;\n",
              "    }\n",
              "\n",
              "    .dataframe thead th {\n",
              "        text-align: right;\n",
              "    }\n",
              "</style>\n",
              "<table border=\"1\" class=\"dataframe\">\n",
              "  <thead>\n",
              "    <tr style=\"text-align: right;\">\n",
              "      <th></th>\n",
              "      <th>Unnamed: 0</th>\n",
              "      <th>english_sentence</th>\n",
              "      <th>hindi_sentence</th>\n",
              "    </tr>\n",
              "  </thead>\n",
              "  <tbody>\n",
              "    <tr>\n",
              "      <th>0</th>\n",
              "      <td>0</td>\n",
              "      <td>politicians do not have permission to do what needs to be done.</td>\n",
              "      <td>राजनीतिज्ञों के पास जो कार्य करना चाहिए, वह करने कि अनुमति नहीं है .</td>\n",
              "    </tr>\n",
              "    <tr>\n",
              "      <th>1</th>\n",
              "      <td>1</td>\n",
              "      <td>I'd like to tell you about one such child,</td>\n",
              "      <td>मई आपको ऐसे ही एक बच्चे के बारे में बताना चाहूंगी,</td>\n",
              "    </tr>\n",
              "    <tr>\n",
              "      <th>2</th>\n",
              "      <td>2</td>\n",
              "      <td>This percentage is even greater than the percentage in India.</td>\n",
              "      <td>यह प्रतिशत भारत में हिन्दुओं प्रतिशत से अधिक है।</td>\n",
              "    </tr>\n",
              "    <tr>\n",
              "      <th>3</th>\n",
              "      <td>3</td>\n",
              "      <td>what we really mean is that they're bad at not paying attention.</td>\n",
              "      <td>हम ये नहीं कहना चाहते कि वो ध्यान नहीं दे पाते</td>\n",
              "    </tr>\n",
              "    <tr>\n",
              "      <th>4</th>\n",
              "      <td>4</td>\n",
              "      <td>.The ending portion of these Vedas is called Upanishad.</td>\n",
              "      <td>इन्हीं वेदों का अंतिम भाग उपनिषद कहलाता है।</td>\n",
              "    </tr>\n",
              "  </tbody>\n",
              "</table>\n",
              "</div>\n",
              "    <div class=\"colab-df-buttons\">\n",
              "\n",
              "  <div class=\"colab-df-container\">\n",
              "    <button class=\"colab-df-convert\" onclick=\"convertToInteractive('df-84d769c3-3832-4c45-a416-872ea915617e')\"\n",
              "            title=\"Convert this dataframe to an interactive table.\"\n",
              "            style=\"display:none;\">\n",
              "\n",
              "  <svg xmlns=\"http://www.w3.org/2000/svg\" height=\"24px\" viewBox=\"0 -960 960 960\">\n",
              "    <path d=\"M120-120v-720h720v720H120Zm60-500h600v-160H180v160Zm220 220h160v-160H400v160Zm0 220h160v-160H400v160ZM180-400h160v-160H180v160Zm440 0h160v-160H620v160ZM180-180h160v-160H180v160Zm440 0h160v-160H620v160Z\"/>\n",
              "  </svg>\n",
              "    </button>\n",
              "\n",
              "  <style>\n",
              "    .colab-df-container {\n",
              "      display:flex;\n",
              "      gap: 12px;\n",
              "    }\n",
              "\n",
              "    .colab-df-convert {\n",
              "      background-color: #E8F0FE;\n",
              "      border: none;\n",
              "      border-radius: 50%;\n",
              "      cursor: pointer;\n",
              "      display: none;\n",
              "      fill: #1967D2;\n",
              "      height: 32px;\n",
              "      padding: 0 0 0 0;\n",
              "      width: 32px;\n",
              "    }\n",
              "\n",
              "    .colab-df-convert:hover {\n",
              "      background-color: #E2EBFA;\n",
              "      box-shadow: 0px 1px 2px rgba(60, 64, 67, 0.3), 0px 1px 3px 1px rgba(60, 64, 67, 0.15);\n",
              "      fill: #174EA6;\n",
              "    }\n",
              "\n",
              "    .colab-df-buttons div {\n",
              "      margin-bottom: 4px;\n",
              "    }\n",
              "\n",
              "    [theme=dark] .colab-df-convert {\n",
              "      background-color: #3B4455;\n",
              "      fill: #D2E3FC;\n",
              "    }\n",
              "\n",
              "    [theme=dark] .colab-df-convert:hover {\n",
              "      background-color: #434B5C;\n",
              "      box-shadow: 0px 1px 3px 1px rgba(0, 0, 0, 0.15);\n",
              "      filter: drop-shadow(0px 1px 2px rgba(0, 0, 0, 0.3));\n",
              "      fill: #FFFFFF;\n",
              "    }\n",
              "  </style>\n",
              "\n",
              "    <script>\n",
              "      const buttonEl =\n",
              "        document.querySelector('#df-84d769c3-3832-4c45-a416-872ea915617e button.colab-df-convert');\n",
              "      buttonEl.style.display =\n",
              "        google.colab.kernel.accessAllowed ? 'block' : 'none';\n",
              "\n",
              "      async function convertToInteractive(key) {\n",
              "        const element = document.querySelector('#df-84d769c3-3832-4c45-a416-872ea915617e');\n",
              "        const dataTable =\n",
              "          await google.colab.kernel.invokeFunction('convertToInteractive',\n",
              "                                                    [key], {});\n",
              "        if (!dataTable) return;\n",
              "\n",
              "        const docLinkHtml = 'Like what you see? Visit the ' +\n",
              "          '<a target=\"_blank\" href=https://colab.research.google.com/notebooks/data_table.ipynb>data table notebook</a>'\n",
              "          + ' to learn more about interactive tables.';\n",
              "        element.innerHTML = '';\n",
              "        dataTable['output_type'] = 'display_data';\n",
              "        await google.colab.output.renderOutput(dataTable, element);\n",
              "        const docLink = document.createElement('div');\n",
              "        docLink.innerHTML = docLinkHtml;\n",
              "        element.appendChild(docLink);\n",
              "      }\n",
              "    </script>\n",
              "  </div>\n",
              "\n",
              "\n",
              "<div id=\"df-8cd75de4-4b3c-4645-8342-452b2de553fc\">\n",
              "  <button class=\"colab-df-quickchart\" onclick=\"quickchart('df-8cd75de4-4b3c-4645-8342-452b2de553fc')\"\n",
              "            title=\"Suggest charts\"\n",
              "            style=\"display:none;\">\n",
              "\n",
              "<svg xmlns=\"http://www.w3.org/2000/svg\" height=\"24px\"viewBox=\"0 0 24 24\"\n",
              "     width=\"24px\">\n",
              "    <g>\n",
              "        <path d=\"M19 3H5c-1.1 0-2 .9-2 2v14c0 1.1.9 2 2 2h14c1.1 0 2-.9 2-2V5c0-1.1-.9-2-2-2zM9 17H7v-7h2v7zm4 0h-2V7h2v10zm4 0h-2v-4h2v4z\"/>\n",
              "    </g>\n",
              "</svg>\n",
              "  </button>\n",
              "\n",
              "<style>\n",
              "  .colab-df-quickchart {\n",
              "      --bg-color: #E8F0FE;\n",
              "      --fill-color: #1967D2;\n",
              "      --hover-bg-color: #E2EBFA;\n",
              "      --hover-fill-color: #174EA6;\n",
              "      --disabled-fill-color: #AAA;\n",
              "      --disabled-bg-color: #DDD;\n",
              "  }\n",
              "\n",
              "  [theme=dark] .colab-df-quickchart {\n",
              "      --bg-color: #3B4455;\n",
              "      --fill-color: #D2E3FC;\n",
              "      --hover-bg-color: #434B5C;\n",
              "      --hover-fill-color: #FFFFFF;\n",
              "      --disabled-bg-color: #3B4455;\n",
              "      --disabled-fill-color: #666;\n",
              "  }\n",
              "\n",
              "  .colab-df-quickchart {\n",
              "    background-color: var(--bg-color);\n",
              "    border: none;\n",
              "    border-radius: 50%;\n",
              "    cursor: pointer;\n",
              "    display: none;\n",
              "    fill: var(--fill-color);\n",
              "    height: 32px;\n",
              "    padding: 0;\n",
              "    width: 32px;\n",
              "  }\n",
              "\n",
              "  .colab-df-quickchart:hover {\n",
              "    background-color: var(--hover-bg-color);\n",
              "    box-shadow: 0 1px 2px rgba(60, 64, 67, 0.3), 0 1px 3px 1px rgba(60, 64, 67, 0.15);\n",
              "    fill: var(--button-hover-fill-color);\n",
              "  }\n",
              "\n",
              "  .colab-df-quickchart-complete:disabled,\n",
              "  .colab-df-quickchart-complete:disabled:hover {\n",
              "    background-color: var(--disabled-bg-color);\n",
              "    fill: var(--disabled-fill-color);\n",
              "    box-shadow: none;\n",
              "  }\n",
              "\n",
              "  .colab-df-spinner {\n",
              "    border: 2px solid var(--fill-color);\n",
              "    border-color: transparent;\n",
              "    border-bottom-color: var(--fill-color);\n",
              "    animation:\n",
              "      spin 1s steps(1) infinite;\n",
              "  }\n",
              "\n",
              "  @keyframes spin {\n",
              "    0% {\n",
              "      border-color: transparent;\n",
              "      border-bottom-color: var(--fill-color);\n",
              "      border-left-color: var(--fill-color);\n",
              "    }\n",
              "    20% {\n",
              "      border-color: transparent;\n",
              "      border-left-color: var(--fill-color);\n",
              "      border-top-color: var(--fill-color);\n",
              "    }\n",
              "    30% {\n",
              "      border-color: transparent;\n",
              "      border-left-color: var(--fill-color);\n",
              "      border-top-color: var(--fill-color);\n",
              "      border-right-color: var(--fill-color);\n",
              "    }\n",
              "    40% {\n",
              "      border-color: transparent;\n",
              "      border-right-color: var(--fill-color);\n",
              "      border-top-color: var(--fill-color);\n",
              "    }\n",
              "    60% {\n",
              "      border-color: transparent;\n",
              "      border-right-color: var(--fill-color);\n",
              "    }\n",
              "    80% {\n",
              "      border-color: transparent;\n",
              "      border-right-color: var(--fill-color);\n",
              "      border-bottom-color: var(--fill-color);\n",
              "    }\n",
              "    90% {\n",
              "      border-color: transparent;\n",
              "      border-bottom-color: var(--fill-color);\n",
              "    }\n",
              "  }\n",
              "</style>\n",
              "\n",
              "  <script>\n",
              "    async function quickchart(key) {\n",
              "      const quickchartButtonEl =\n",
              "        document.querySelector('#' + key + ' button');\n",
              "      quickchartButtonEl.disabled = true;  // To prevent multiple clicks.\n",
              "      quickchartButtonEl.classList.add('colab-df-spinner');\n",
              "      try {\n",
              "        const charts = await google.colab.kernel.invokeFunction(\n",
              "            'suggestCharts', [key], {});\n",
              "      } catch (error) {\n",
              "        console.error('Error during call to suggestCharts:', error);\n",
              "      }\n",
              "      quickchartButtonEl.classList.remove('colab-df-spinner');\n",
              "      quickchartButtonEl.classList.add('colab-df-quickchart-complete');\n",
              "    }\n",
              "    (() => {\n",
              "      let quickchartButtonEl =\n",
              "        document.querySelector('#df-8cd75de4-4b3c-4645-8342-452b2de553fc button');\n",
              "      quickchartButtonEl.style.display =\n",
              "        google.colab.kernel.accessAllowed ? 'block' : 'none';\n",
              "    })();\n",
              "  </script>\n",
              "</div>\n",
              "\n",
              "    </div>\n",
              "  </div>\n"
            ],
            "application/vnd.google.colaboratory.intrinsic+json": {
              "type": "dataframe",
              "variable_name": "lines",
              "summary": "{\n  \"name\": \"lines\",\n  \"rows\": 30000,\n  \"fields\": [\n    {\n      \"column\": \"Unnamed: 0\",\n      \"properties\": {\n        \"dtype\": \"number\",\n        \"std\": 8660,\n        \"min\": 0,\n        \"max\": 29999,\n        \"num_unique_values\": 30000,\n        \"samples\": [\n          2308,\n          22404,\n          23397\n        ],\n        \"semantic_type\": \"\",\n        \"description\": \"\"\n      }\n    },\n    {\n      \"column\": \"english_sentence\",\n      \"properties\": {\n        \"dtype\": \"string\",\n        \"num_unique_values\": 29497,\n        \"samples\": [\n          \"He became a cult and a legend .\",\n          \"Haripura is Congress' presidency\",\n          \"movie\"\n        ],\n        \"semantic_type\": \"\",\n        \"description\": \"\"\n      }\n    },\n    {\n      \"column\": \"hindi_sentence\",\n      \"properties\": {\n        \"dtype\": \"string\",\n        \"num_unique_values\": 26812,\n        \"samples\": [\n          \"\\u0936\\u0941\\u0930\\u0942 \\u0936\\u0941\\u0930\\u0942 \\u092e\\u0947\\u0902 , \\u091c\\u0942\\u091f \\u0928\\u093f\\u0930\\u094d\\u092e\\u093f\\u0924 \\u0935\\u0938\\u094d\\u0924\\u0941\\u0913\\u0902 \\u0915\\u093e \\u0928\\u093f\\u0930\\u094d\\u092f\\u093e\\u0924 \\u0915\\u091a\\u094d\\u091a\\u0947 \\u091c\\u0942\\u091f \\u0915\\u0940 \\u0924\\u0941\\u0932\\u0928\\u093e \\u092e\\u0947\\u0902 \\u0915\\u092e \\u0925\\u093e .\",\n          \"(\\u0905\\u092d\\u093f\\u0935\\u093e\\u0926\\u0928 \\u0964 \\u0924\\u093e\\u0932\\u093f\\u092f\\u094b\\u0902 \\u0915\\u0940 \\u0917\\u0921\\u0917\\u0921\\u093e\\u0939\\u091f)\",\n          \"\\u0915\\u092d\\u0940 \\u0915\\u094b\\u0908 \\u090f\\u0915\\u0932\\u094c\\u0924\\u0940 \\u0915\\u0939\\u093e\\u0928\\u0940 \\u0928\\u0939\\u0940 \\u0939\\u094b\\u0924\\u0940,\"\n        ],\n        \"semantic_type\": \"\",\n        \"description\": \"\"\n      }\n    }\n  ]\n}"
            }
          },
          "metadata": {},
          "execution_count": 2
        }
      ],
      "source": [
        "lines = pd.read_csv('/content/drive/MyDrive/newdata.csv')\n",
        "lines = lines[:30000]\n",
        "lines.head()"
      ]
    },
    {
      "cell_type": "code",
      "execution_count": null,
      "metadata": {
        "id": "lz7xlazaumd1"
      },
      "outputs": [],
      "source": [
        "lines['english_sentence']=lines['english_sentence'].apply(lambda x: str(x))\n",
        "lines['hindi_sentence']=lines['hindi_sentence'].apply(lambda x: str(x))\n",
        "lines['english_sentence']=lines['english_sentence'].apply(lambda x: x.lower())\n",
        "lines['hindi_sentence']=lines['hindi_sentence'].apply(lambda x: x.lower())"
      ]
    },
    {
      "cell_type": "code",
      "execution_count": null,
      "metadata": {
        "id": "2f7sv0cOusSH"
      },
      "outputs": [],
      "source": [
        "lines['english_sentence']=lines['english_sentence'].apply(lambda x: re.sub(\"'\", '', x))\n",
        "lines['hindi_sentence']=lines['hindi_sentence'].apply(lambda x: re.sub(\"'\", '', x))"
      ]
    },
    {
      "cell_type": "code",
      "execution_count": null,
      "metadata": {
        "id": "6qsVJhqtuw3b"
      },
      "outputs": [],
      "source": [
        "exclude = set(string.punctuation) # Set of all special characters\n",
        "# Remove all the special characters\n",
        "lines['english_sentence']=lines['english_sentence'].apply(lambda x: ''.join(ch for ch in x if ch not in exclude))\n",
        "lines['hindi_sentence']=lines['hindi_sentence'].apply(lambda x: ''.join(ch for ch in x if ch not in exclude))"
      ]
    },
    {
      "cell_type": "code",
      "execution_count": null,
      "metadata": {
        "id": "VFqm2y-wu1XC"
      },
      "outputs": [],
      "source": [
        "remove_digits = str.maketrans('', '', digits)\n",
        "lines['english_sentence']=lines['english_sentence'].apply(lambda x: x.translate(remove_digits))\n",
        "lines['hindi_sentence']=lines['hindi_sentence'].apply(lambda x: x.translate(remove_digits))\n",
        "\n",
        "lines['hindi_sentence'] = lines['hindi_sentence'].apply(lambda x: re.sub(\"[२३०८१५७९४६]\", \"\", x))\n",
        "\n",
        "# Remove extra spaces\n",
        "lines['english_sentence']=lines['english_sentence'].apply(lambda x: x.strip())\n",
        "lines['hindi_sentence']=lines['hindi_sentence'].apply(lambda x: x.strip())\n",
        "lines['english_sentence']=lines['english_sentence'].apply(lambda x: re.sub(\" +\", \" \", x))\n",
        "lines['hindi_sentence']=lines['hindi_sentence'].apply(lambda x: re.sub(\" +\", \" \", x))"
      ]
    },
    {
      "cell_type": "code",
      "execution_count": null,
      "metadata": {
        "id": "x-OH8vpsu5o7"
      },
      "outputs": [],
      "source": [
        "lines['hindi_sentence'] = lines['hindi_sentence'].apply(lambda x : 'START_ '+ x + ' _END')"
      ]
    },
    {
      "cell_type": "code",
      "execution_count": null,
      "metadata": {
        "id": "ghNuC0xwu_ER"
      },
      "outputs": [],
      "source": [
        "all_eng_words=set()\n",
        "for eng in lines['english_sentence']:\n",
        "    for word in eng.split():\n",
        "        if word not in all_eng_words:\n",
        "            all_eng_words.add(word)\n",
        "\n",
        "all_hindi_words=set()\n",
        "for hin in lines['hindi_sentence']:\n",
        "    for word in hin.split():\n",
        "        if word not in all_hindi_words:\n",
        "            all_hindi_words.add(word)"
      ]
    },
    {
      "cell_type": "code",
      "execution_count": null,
      "metadata": {
        "id": "7Hsmn5TtvCmc"
      },
      "outputs": [],
      "source": [
        "lines['length_eng_sentence']=lines['english_sentence'].apply(lambda x:len(x.split(\" \")))\n",
        "lines['length_hin_sentence']=lines['hindi_sentence'].apply(lambda x:len(x.split(\" \")))"
      ]
    },
    {
      "cell_type": "code",
      "execution_count": null,
      "metadata": {
        "colab": {
          "base_uri": "https://localhost:8080/"
        },
        "id": "EI0bfX_1vH0Z",
        "outputId": "3649628a-35cc-4f05-8720-f3ffc6e513c7"
      },
      "outputs": [
        {
          "output_type": "execute_result",
          "data": {
            "text/plain": [
              "(2919, 5)"
            ]
          },
          "metadata": {},
          "execution_count": 10
        }
      ],
      "source": [
        "lines.head()\n",
        "lines[lines['length_eng_sentence']>30].shape"
      ]
    },
    {
      "cell_type": "code",
      "execution_count": null,
      "metadata": {
        "id": "opXxef12vLAD"
      },
      "outputs": [],
      "source": [
        "lines=lines[lines['length_eng_sentence']<=20]\n",
        "lines=lines[lines['length_hin_sentence']<=20]"
      ]
    },
    {
      "cell_type": "code",
      "execution_count": null,
      "metadata": {
        "colab": {
          "base_uri": "https://localhost:8080/"
        },
        "id": "snzlJca5vOHx",
        "outputId": "273bb96a-dc47-465b-c48e-cbb335d28c88"
      },
      "outputs": [
        {
          "output_type": "stream",
          "name": "stdout",
          "text": [
            "maximum length of Hindi Sentence  20\n",
            "maximum length of English Sentence  20\n"
          ]
        }
      ],
      "source": [
        "print(\"maximum length of Hindi Sentence \",max(lines['length_hin_sentence']))\n",
        "print(\"maximum length of English Sentence \",max(lines['length_eng_sentence']))"
      ]
    },
    {
      "cell_type": "code",
      "execution_count": null,
      "metadata": {
        "id": "Lv26e6mRvRrf"
      },
      "outputs": [],
      "source": [
        "max_length_src=max(lines['length_hin_sentence'])\n",
        "max_length_tar=max(lines['length_eng_sentence'])"
      ]
    },
    {
      "cell_type": "code",
      "execution_count": null,
      "metadata": {
        "colab": {
          "base_uri": "https://localhost:8080/"
        },
        "id": "gHcyJsUYvU_C",
        "outputId": "3d75b653-996b-40f7-ef04-cddc9764ac6e"
      },
      "outputs": [
        {
          "output_type": "execute_result",
          "data": {
            "text/plain": [
              "(33708, 40802)"
            ]
          },
          "metadata": {},
          "execution_count": 14
        }
      ],
      "source": [
        "input_words = sorted(list(all_eng_words))\n",
        "target_words = sorted(list(all_hindi_words))\n",
        "num_encoder_tokens = len(all_eng_words)\n",
        "num_decoder_tokens = len(all_hindi_words)\n",
        "num_encoder_tokens, num_decoder_tokens"
      ]
    },
    {
      "cell_type": "code",
      "execution_count": null,
      "metadata": {
        "id": "eJowWJ4nvX1o"
      },
      "outputs": [],
      "source": [
        "num_decoder_tokens += 1"
      ]
    },
    {
      "cell_type": "code",
      "execution_count": null,
      "metadata": {
        "id": "GNOaq0CCvboP"
      },
      "outputs": [],
      "source": [
        "input_token_index = dict([(word, i+1) for i, word in enumerate(input_words)])\n",
        "target_token_index = dict([(word, i+1) for i, word in enumerate(target_words)])"
      ]
    },
    {
      "cell_type": "code",
      "execution_count": null,
      "metadata": {
        "id": "EZJ7XWnhvfBs"
      },
      "outputs": [],
      "source": [
        "reverse_input_char_index = dict((i, word) for word, i in input_token_index.items())\n",
        "reverse_target_char_index = dict((i, word) for word, i in target_token_index.items())"
      ]
    },
    {
      "cell_type": "code",
      "execution_count": null,
      "metadata": {
        "colab": {
          "base_uri": "https://localhost:8080/",
          "height": 571
        },
        "id": "ADedJEMZvipz",
        "outputId": "7ab22b00-2ae9-4502-e19f-e854d4371a81"
      },
      "outputs": [
        {
          "output_type": "execute_result",
          "data": {
            "text/plain": [
              "    Unnamed: 0                                                english_sentence                                                                 hindi_sentence  length_eng_sentence  length_hin_sentence\n",
              "0   0           politicians do not have permission to do what needs to be done  START_ राजनीतिज्ञों के पास जो कार्य करना चाहिए वह करने कि अनुमति नहीं है _END  12                   15                 \n",
              "1   1           id like to tell you about one such child                        START_ मई आपको ऐसे ही एक बच्चे के बारे में बताना चाहूंगी _END                  9                    13                 \n",
              "2   2           this percentage is even greater than the percentage in india    START_ यह प्रतिशत भारत में हिन्दुओं प्रतिशत से अधिक है। _END                   10                   11                 \n",
              "3   3           what we really mean is that theyre bad at not paying attention  START_ हम ये नहीं कहना चाहते कि वो ध्यान नहीं दे पाते _END                     12                   13                 \n",
              "4   4           the ending portion of these vedas is called upanishad           START_ इन्हीं वेदों का अंतिम भाग उपनिषद कहलाता है। _END                        9                    10                 \n",
              "6   6           in this lies the circumstances of people before you             START_ इसमें तुमसे पूर्व गुज़रे हुए लोगों के हालात हैं। _END                   9                    11                 \n",
              "7   7           and who are we to say even that they are wrong                  START_ और हम होते कौन हैं यह कहने भी वाले कि वे गलत हैं _END                   11                   15                 \n",
              "10  10          please ensure that you use the appropriate form                 START_ कृपया यह सुनिश्चित कर लें कि आप सही फॉर्म का प्रयोग कर रहें हैं _END    8                    16                 \n",
              "11  11          category religious text                                         START_ श्रेणीधर्मग्रन्थ _END                                                   3                    3                  \n",
              "12  12          this period summarily is pepped up with devotion                START_ यह काल समग्रतः भक्ति भावना से ओतप्रोत काल है। _END                      8                    11                 "
            ],
            "text/html": [
              "\n",
              "  <div id=\"df-99dd6a40-95d2-41f2-9bb2-070b7eaafe41\" class=\"colab-df-container\">\n",
              "    <div>\n",
              "<style scoped>\n",
              "    .dataframe tbody tr th:only-of-type {\n",
              "        vertical-align: middle;\n",
              "    }\n",
              "\n",
              "    .dataframe tbody tr th {\n",
              "        vertical-align: top;\n",
              "    }\n",
              "\n",
              "    .dataframe thead th {\n",
              "        text-align: right;\n",
              "    }\n",
              "</style>\n",
              "<table border=\"1\" class=\"dataframe\">\n",
              "  <thead>\n",
              "    <tr style=\"text-align: right;\">\n",
              "      <th></th>\n",
              "      <th>Unnamed: 0</th>\n",
              "      <th>english_sentence</th>\n",
              "      <th>hindi_sentence</th>\n",
              "      <th>length_eng_sentence</th>\n",
              "      <th>length_hin_sentence</th>\n",
              "    </tr>\n",
              "  </thead>\n",
              "  <tbody>\n",
              "    <tr>\n",
              "      <th>0</th>\n",
              "      <td>0</td>\n",
              "      <td>politicians do not have permission to do what needs to be done</td>\n",
              "      <td>START_ राजनीतिज्ञों के पास जो कार्य करना चाहिए वह करने कि अनुमति नहीं है _END</td>\n",
              "      <td>12</td>\n",
              "      <td>15</td>\n",
              "    </tr>\n",
              "    <tr>\n",
              "      <th>1</th>\n",
              "      <td>1</td>\n",
              "      <td>id like to tell you about one such child</td>\n",
              "      <td>START_ मई आपको ऐसे ही एक बच्चे के बारे में बताना चाहूंगी _END</td>\n",
              "      <td>9</td>\n",
              "      <td>13</td>\n",
              "    </tr>\n",
              "    <tr>\n",
              "      <th>2</th>\n",
              "      <td>2</td>\n",
              "      <td>this percentage is even greater than the percentage in india</td>\n",
              "      <td>START_ यह प्रतिशत भारत में हिन्दुओं प्रतिशत से अधिक है। _END</td>\n",
              "      <td>10</td>\n",
              "      <td>11</td>\n",
              "    </tr>\n",
              "    <tr>\n",
              "      <th>3</th>\n",
              "      <td>3</td>\n",
              "      <td>what we really mean is that theyre bad at not paying attention</td>\n",
              "      <td>START_ हम ये नहीं कहना चाहते कि वो ध्यान नहीं दे पाते _END</td>\n",
              "      <td>12</td>\n",
              "      <td>13</td>\n",
              "    </tr>\n",
              "    <tr>\n",
              "      <th>4</th>\n",
              "      <td>4</td>\n",
              "      <td>the ending portion of these vedas is called upanishad</td>\n",
              "      <td>START_ इन्हीं वेदों का अंतिम भाग उपनिषद कहलाता है। _END</td>\n",
              "      <td>9</td>\n",
              "      <td>10</td>\n",
              "    </tr>\n",
              "    <tr>\n",
              "      <th>6</th>\n",
              "      <td>6</td>\n",
              "      <td>in this lies the circumstances of people before you</td>\n",
              "      <td>START_ इसमें तुमसे पूर्व गुज़रे हुए लोगों के हालात हैं। _END</td>\n",
              "      <td>9</td>\n",
              "      <td>11</td>\n",
              "    </tr>\n",
              "    <tr>\n",
              "      <th>7</th>\n",
              "      <td>7</td>\n",
              "      <td>and who are we to say even that they are wrong</td>\n",
              "      <td>START_ और हम होते कौन हैं यह कहने भी वाले कि वे गलत हैं _END</td>\n",
              "      <td>11</td>\n",
              "      <td>15</td>\n",
              "    </tr>\n",
              "    <tr>\n",
              "      <th>10</th>\n",
              "      <td>10</td>\n",
              "      <td>please ensure that you use the appropriate form</td>\n",
              "      <td>START_ कृपया यह सुनिश्चित कर लें कि आप सही फॉर्म का प्रयोग कर रहें हैं _END</td>\n",
              "      <td>8</td>\n",
              "      <td>16</td>\n",
              "    </tr>\n",
              "    <tr>\n",
              "      <th>11</th>\n",
              "      <td>11</td>\n",
              "      <td>category religious text</td>\n",
              "      <td>START_ श्रेणीधर्मग्रन्थ _END</td>\n",
              "      <td>3</td>\n",
              "      <td>3</td>\n",
              "    </tr>\n",
              "    <tr>\n",
              "      <th>12</th>\n",
              "      <td>12</td>\n",
              "      <td>this period summarily is pepped up with devotion</td>\n",
              "      <td>START_ यह काल समग्रतः भक्ति भावना से ओतप्रोत काल है। _END</td>\n",
              "      <td>8</td>\n",
              "      <td>11</td>\n",
              "    </tr>\n",
              "  </tbody>\n",
              "</table>\n",
              "</div>\n",
              "    <div class=\"colab-df-buttons\">\n",
              "\n",
              "  <div class=\"colab-df-container\">\n",
              "    <button class=\"colab-df-convert\" onclick=\"convertToInteractive('df-99dd6a40-95d2-41f2-9bb2-070b7eaafe41')\"\n",
              "            title=\"Convert this dataframe to an interactive table.\"\n",
              "            style=\"display:none;\">\n",
              "\n",
              "  <svg xmlns=\"http://www.w3.org/2000/svg\" height=\"24px\" viewBox=\"0 -960 960 960\">\n",
              "    <path d=\"M120-120v-720h720v720H120Zm60-500h600v-160H180v160Zm220 220h160v-160H400v160Zm0 220h160v-160H400v160ZM180-400h160v-160H180v160Zm440 0h160v-160H620v160ZM180-180h160v-160H180v160Zm440 0h160v-160H620v160Z\"/>\n",
              "  </svg>\n",
              "    </button>\n",
              "\n",
              "  <style>\n",
              "    .colab-df-container {\n",
              "      display:flex;\n",
              "      gap: 12px;\n",
              "    }\n",
              "\n",
              "    .colab-df-convert {\n",
              "      background-color: #E8F0FE;\n",
              "      border: none;\n",
              "      border-radius: 50%;\n",
              "      cursor: pointer;\n",
              "      display: none;\n",
              "      fill: #1967D2;\n",
              "      height: 32px;\n",
              "      padding: 0 0 0 0;\n",
              "      width: 32px;\n",
              "    }\n",
              "\n",
              "    .colab-df-convert:hover {\n",
              "      background-color: #E2EBFA;\n",
              "      box-shadow: 0px 1px 2px rgba(60, 64, 67, 0.3), 0px 1px 3px 1px rgba(60, 64, 67, 0.15);\n",
              "      fill: #174EA6;\n",
              "    }\n",
              "\n",
              "    .colab-df-buttons div {\n",
              "      margin-bottom: 4px;\n",
              "    }\n",
              "\n",
              "    [theme=dark] .colab-df-convert {\n",
              "      background-color: #3B4455;\n",
              "      fill: #D2E3FC;\n",
              "    }\n",
              "\n",
              "    [theme=dark] .colab-df-convert:hover {\n",
              "      background-color: #434B5C;\n",
              "      box-shadow: 0px 1px 3px 1px rgba(0, 0, 0, 0.15);\n",
              "      filter: drop-shadow(0px 1px 2px rgba(0, 0, 0, 0.3));\n",
              "      fill: #FFFFFF;\n",
              "    }\n",
              "  </style>\n",
              "\n",
              "    <script>\n",
              "      const buttonEl =\n",
              "        document.querySelector('#df-99dd6a40-95d2-41f2-9bb2-070b7eaafe41 button.colab-df-convert');\n",
              "      buttonEl.style.display =\n",
              "        google.colab.kernel.accessAllowed ? 'block' : 'none';\n",
              "\n",
              "      async function convertToInteractive(key) {\n",
              "        const element = document.querySelector('#df-99dd6a40-95d2-41f2-9bb2-070b7eaafe41');\n",
              "        const dataTable =\n",
              "          await google.colab.kernel.invokeFunction('convertToInteractive',\n",
              "                                                    [key], {});\n",
              "        if (!dataTable) return;\n",
              "\n",
              "        const docLinkHtml = 'Like what you see? Visit the ' +\n",
              "          '<a target=\"_blank\" href=https://colab.research.google.com/notebooks/data_table.ipynb>data table notebook</a>'\n",
              "          + ' to learn more about interactive tables.';\n",
              "        element.innerHTML = '';\n",
              "        dataTable['output_type'] = 'display_data';\n",
              "        await google.colab.output.renderOutput(dataTable, element);\n",
              "        const docLink = document.createElement('div');\n",
              "        docLink.innerHTML = docLinkHtml;\n",
              "        element.appendChild(docLink);\n",
              "      }\n",
              "    </script>\n",
              "  </div>\n",
              "\n",
              "\n",
              "<div id=\"df-4a2d6b2e-8301-4509-8aa5-1c2e2777e6d4\">\n",
              "  <button class=\"colab-df-quickchart\" onclick=\"quickchart('df-4a2d6b2e-8301-4509-8aa5-1c2e2777e6d4')\"\n",
              "            title=\"Suggest charts\"\n",
              "            style=\"display:none;\">\n",
              "\n",
              "<svg xmlns=\"http://www.w3.org/2000/svg\" height=\"24px\"viewBox=\"0 0 24 24\"\n",
              "     width=\"24px\">\n",
              "    <g>\n",
              "        <path d=\"M19 3H5c-1.1 0-2 .9-2 2v14c0 1.1.9 2 2 2h14c1.1 0 2-.9 2-2V5c0-1.1-.9-2-2-2zM9 17H7v-7h2v7zm4 0h-2V7h2v10zm4 0h-2v-4h2v4z\"/>\n",
              "    </g>\n",
              "</svg>\n",
              "  </button>\n",
              "\n",
              "<style>\n",
              "  .colab-df-quickchart {\n",
              "      --bg-color: #E8F0FE;\n",
              "      --fill-color: #1967D2;\n",
              "      --hover-bg-color: #E2EBFA;\n",
              "      --hover-fill-color: #174EA6;\n",
              "      --disabled-fill-color: #AAA;\n",
              "      --disabled-bg-color: #DDD;\n",
              "  }\n",
              "\n",
              "  [theme=dark] .colab-df-quickchart {\n",
              "      --bg-color: #3B4455;\n",
              "      --fill-color: #D2E3FC;\n",
              "      --hover-bg-color: #434B5C;\n",
              "      --hover-fill-color: #FFFFFF;\n",
              "      --disabled-bg-color: #3B4455;\n",
              "      --disabled-fill-color: #666;\n",
              "  }\n",
              "\n",
              "  .colab-df-quickchart {\n",
              "    background-color: var(--bg-color);\n",
              "    border: none;\n",
              "    border-radius: 50%;\n",
              "    cursor: pointer;\n",
              "    display: none;\n",
              "    fill: var(--fill-color);\n",
              "    height: 32px;\n",
              "    padding: 0;\n",
              "    width: 32px;\n",
              "  }\n",
              "\n",
              "  .colab-df-quickchart:hover {\n",
              "    background-color: var(--hover-bg-color);\n",
              "    box-shadow: 0 1px 2px rgba(60, 64, 67, 0.3), 0 1px 3px 1px rgba(60, 64, 67, 0.15);\n",
              "    fill: var(--button-hover-fill-color);\n",
              "  }\n",
              "\n",
              "  .colab-df-quickchart-complete:disabled,\n",
              "  .colab-df-quickchart-complete:disabled:hover {\n",
              "    background-color: var(--disabled-bg-color);\n",
              "    fill: var(--disabled-fill-color);\n",
              "    box-shadow: none;\n",
              "  }\n",
              "\n",
              "  .colab-df-spinner {\n",
              "    border: 2px solid var(--fill-color);\n",
              "    border-color: transparent;\n",
              "    border-bottom-color: var(--fill-color);\n",
              "    animation:\n",
              "      spin 1s steps(1) infinite;\n",
              "  }\n",
              "\n",
              "  @keyframes spin {\n",
              "    0% {\n",
              "      border-color: transparent;\n",
              "      border-bottom-color: var(--fill-color);\n",
              "      border-left-color: var(--fill-color);\n",
              "    }\n",
              "    20% {\n",
              "      border-color: transparent;\n",
              "      border-left-color: var(--fill-color);\n",
              "      border-top-color: var(--fill-color);\n",
              "    }\n",
              "    30% {\n",
              "      border-color: transparent;\n",
              "      border-left-color: var(--fill-color);\n",
              "      border-top-color: var(--fill-color);\n",
              "      border-right-color: var(--fill-color);\n",
              "    }\n",
              "    40% {\n",
              "      border-color: transparent;\n",
              "      border-right-color: var(--fill-color);\n",
              "      border-top-color: var(--fill-color);\n",
              "    }\n",
              "    60% {\n",
              "      border-color: transparent;\n",
              "      border-right-color: var(--fill-color);\n",
              "    }\n",
              "    80% {\n",
              "      border-color: transparent;\n",
              "      border-right-color: var(--fill-color);\n",
              "      border-bottom-color: var(--fill-color);\n",
              "    }\n",
              "    90% {\n",
              "      border-color: transparent;\n",
              "      border-bottom-color: var(--fill-color);\n",
              "    }\n",
              "  }\n",
              "</style>\n",
              "\n",
              "  <script>\n",
              "    async function quickchart(key) {\n",
              "      const quickchartButtonEl =\n",
              "        document.querySelector('#' + key + ' button');\n",
              "      quickchartButtonEl.disabled = true;  // To prevent multiple clicks.\n",
              "      quickchartButtonEl.classList.add('colab-df-spinner');\n",
              "      try {\n",
              "        const charts = await google.colab.kernel.invokeFunction(\n",
              "            'suggestCharts', [key], {});\n",
              "      } catch (error) {\n",
              "        console.error('Error during call to suggestCharts:', error);\n",
              "      }\n",
              "      quickchartButtonEl.classList.remove('colab-df-spinner');\n",
              "      quickchartButtonEl.classList.add('colab-df-quickchart-complete');\n",
              "    }\n",
              "    (() => {\n",
              "      let quickchartButtonEl =\n",
              "        document.querySelector('#df-4a2d6b2e-8301-4509-8aa5-1c2e2777e6d4 button');\n",
              "      quickchartButtonEl.style.display =\n",
              "        google.colab.kernel.accessAllowed ? 'block' : 'none';\n",
              "    })();\n",
              "  </script>\n",
              "</div>\n",
              "\n",
              "    </div>\n",
              "  </div>\n"
            ],
            "application/vnd.google.colaboratory.intrinsic+json": {
              "type": "dataframe",
              "variable_name": "lines",
              "summary": "{\n  \"name\": \"lines\",\n  \"rows\": 20009,\n  \"fields\": [\n    {\n      \"column\": \"Unnamed: 0\",\n      \"properties\": {\n        \"dtype\": \"number\",\n        \"std\": 8690,\n        \"min\": 0,\n        \"max\": 29999,\n        \"num_unique_values\": 20009,\n        \"samples\": [\n          27789,\n          8913,\n          14590\n        ],\n        \"semantic_type\": \"\",\n        \"description\": \"\"\n      }\n    },\n    {\n      \"column\": \"english_sentence\",\n      \"properties\": {\n        \"dtype\": \"string\",\n        \"num_unique_values\": 19365,\n        \"samples\": [\n          \"but that alone doesnt give us the road map\",\n          \"is not divisible\",\n          \"but often there are obstructions\"\n        ],\n        \"semantic_type\": \"\",\n        \"description\": \"\"\n      }\n    },\n    {\n      \"column\": \"hindi_sentence\",\n      \"properties\": {\n        \"dtype\": \"string\",\n        \"num_unique_values\": 17610,\n        \"samples\": [\n          \"START_ \\u0914\\u0930 \\u0935\\u093e\\u0915\\u0908 _END\",\n          \"START_ \\u0935\\u0930\\u094d\\u0932\\u094d\\u0921 \\u0917\\u0948\\u091c\\u093c\\u0947\\u091f\\u093f\\u092f\\u0930 \\u0926\\u094d\\u0935\\u093e\\u0930\\u093e \\u092e\\u0947\\u0902 \\u0915\\u093f\\u092f\\u0947 \\u0917\\u092f\\u0947 \\u0917\\u0923\\u0928\\u093e \\u0915\\u093e\\u0930\\u094d\\u092f\\u0915\\u094d\\u0930\\u092e \\u0915\\u0947 \\u0905\\u0928\\u0941\\u0938\\u093e\\u0930 \\u092e\\u0941\\u0902\\u092c\\u0908 \\u0915\\u0940 \\u091c\\u0928\\u0938\\u0902\\u0916\\u094d\\u092f\\u093e \\u0925\\u0940\\u0964 _END\",\n          \"START_ \\u0924\\u093e\\u0915\\u093f \\u091c\\u092c \\u0939\\u092e\\u093e\\u0930\\u0947 \\u092a\\u093e\\u0938 \\u090f\\u0915 \\u0930\\u094b\\u092c\\u094b\\u091f \\u0939\\u0948 _END\"\n        ],\n        \"semantic_type\": \"\",\n        \"description\": \"\"\n      }\n    },\n    {\n      \"column\": \"length_eng_sentence\",\n      \"properties\": {\n        \"dtype\": \"number\",\n        \"std\": 4,\n        \"min\": 1,\n        \"max\": 20,\n        \"num_unique_values\": 20,\n        \"samples\": [\n          12,\n          17,\n          4\n        ],\n        \"semantic_type\": \"\",\n        \"description\": \"\"\n      }\n    },\n    {\n      \"column\": \"length_hin_sentence\",\n      \"properties\": {\n        \"dtype\": \"number\",\n        \"std\": 4,\n        \"min\": 3,\n        \"max\": 20,\n        \"num_unique_values\": 18,\n        \"samples\": [\n          15,\n          13,\n          17\n        ],\n        \"semantic_type\": \"\",\n        \"description\": \"\"\n      }\n    }\n  ]\n}"
            }
          },
          "metadata": {},
          "execution_count": 18
        }
      ],
      "source": [
        "lines.head(10)"
      ]
    },
    {
      "cell_type": "code",
      "execution_count": null,
      "metadata": {
        "colab": {
          "base_uri": "https://localhost:8080/"
        },
        "id": "lbVxyHSZvmQA",
        "outputId": "f068f5b8-5ca1-499e-ee21-945ac2ba649e"
      },
      "outputs": [
        {
          "output_type": "execute_result",
          "data": {
            "text/plain": [
              "((16007,), (4002,))"
            ]
          },
          "metadata": {},
          "execution_count": 19
        }
      ],
      "source": [
        "from sklearn.model_selection import train_test_split\n",
        "X, y = lines['english_sentence'], lines['hindi_sentence']\n",
        "X_train, X_test, y_train, y_test = train_test_split(X, y, test_size = 0.2,random_state=42)\n",
        "X_train.shape, X_test.shape"
      ]
    },
    {
      "cell_type": "code",
      "execution_count": null,
      "metadata": {
        "colab": {
          "base_uri": "https://localhost:8080/"
        },
        "id": "zxT-aOz4vpqC",
        "outputId": "596a19fe-78ba-4e9f-92fd-f119c0a4d3aa"
      },
      "outputs": [
        {
          "output_type": "execute_result",
          "data": {
            "text/plain": [
              "21471    the future development of the mini steel industry will depend on the availability of sponge iron\n",
              "2807     and god“ he said to the poor man ”is answering your plea                                        \n",
              "1577     deep shade of white mausoleum could clearly be seen in the lake                                 \n",
              "7990     hindu philosophy of unity                                                                       \n",
              "20023    to stand up and join in                                                                         \n",
              "                  ...                                                                                    \n",
              "16973    hindu people really do not worship stones and iron as some people explain                       \n",
              "17972    he is self originated and maker of world                                                        \n",
              "8002     during this period considerable political consciousness developed in the country                \n",
              "1303     badruddin himself had to learn all these languages before his english education began           \n",
              "23756    you really are considered a bit of an antique                                                   \n",
              "Name: english_sentence, Length: 16007, dtype: object"
            ]
          },
          "metadata": {},
          "execution_count": 20
        }
      ],
      "source": [
        "X_train"
      ]
    },
    {
      "cell_type": "code",
      "execution_count": null,
      "metadata": {
        "id": "oLCf3HYHvtHs"
      },
      "outputs": [],
      "source": [
        "def generate_batch(X = X_train, y = y_train, batch_size = 128):\n",
        "    ''' Generate a batch of data '''\n",
        "    while True:\n",
        "        for j in range(0, len(X), batch_size):\n",
        "            encoder_input_data = np.zeros((batch_size, max_length_src),dtype='float32')\n",
        "            decoder_input_data = np.zeros((batch_size, max_length_tar),dtype='float32')\n",
        "            decoder_target_data = np.zeros((batch_size, max_length_tar, num_decoder_tokens),dtype='float32')\n",
        "            for i, (input_text, target_text) in enumerate(zip(X[j:j+batch_size], y[j:j+batch_size])):\n",
        "                for t, word in enumerate(input_text.split()):\n",
        "                    encoder_input_data[i, t] = input_token_index[word] # encoder input seq\n",
        "                for t, word in enumerate(target_text.split()):\n",
        "                    if t<len(target_text.split())-1:\n",
        "                        decoder_input_data[i, t] = target_token_index[word] # decoder input seq\n",
        "                    if t>0:\n",
        "                        # decoder target sequence (one hot encoded)\n",
        "                        # does not include the START_ token\n",
        "                        # Offset by one timestep\n",
        "                        decoder_target_data[i, t - 1, target_token_index[word]] = 1.\n",
        "            yield([encoder_input_data, decoder_input_data], decoder_target_data)"
      ]
    },
    {
      "cell_type": "code",
      "execution_count": null,
      "metadata": {
        "id": "bP-RIdgSChjy"
      },
      "outputs": [],
      "source": [
        "latent_dim = 300\n",
        "# Encoder\n",
        "encoder_inputs = Input(shape=(None,))\n",
        "enc_emb =  Embedding(num_encoder_tokens, latent_dim, mask_zero = True)(encoder_inputs)\n",
        "encoder_lstm = LSTM(latent_dim, return_state=True)\n",
        "encoder_outputs, state_h, state_c = encoder_lstm(enc_emb)\n",
        "# We discard `encoder_outputs` and only keep the states.\n",
        "encoder_states = [state_h, state_c]"
      ]
    },
    {
      "cell_type": "code",
      "execution_count": null,
      "metadata": {
        "id": "UIG4_RnjCru_"
      },
      "outputs": [],
      "source": [
        "decoder_inputs = Input(shape=(None,))\n",
        "dec_emb_layer = Embedding(num_decoder_tokens, latent_dim, mask_zero = True)\n",
        "dec_emb = dec_emb_layer(decoder_inputs)\n",
        "# We set up our decoder to return full output sequences,\n",
        "# and to return internal states as well. We don't use the\n",
        "# return states in the training model, but we will use them in inference.\n",
        "decoder_lstm = LSTM(latent_dim, return_sequences=True, return_state=True)\n",
        "decoder_outputs, _, _ = decoder_lstm(dec_emb,\n",
        "                                     initial_state=encoder_states)\n",
        "decoder_dense = Dense(num_decoder_tokens, activation='softmax')\n",
        "decoder_outputs = decoder_dense(decoder_outputs)\n",
        "\n",
        "# Define the model that will turn\n",
        "# `encoder_input_data` & `decoder_input_data` into `decoder_target_data`\n",
        "model = Model([encoder_inputs, decoder_inputs], decoder_outputs)"
      ]
    },
    {
      "cell_type": "code",
      "execution_count": null,
      "metadata": {
        "id": "WD4JWWXpv5le"
      },
      "outputs": [],
      "source": [
        "model.compile(optimizer='adam', loss='categorical_crossentropy',metrics=['accuracy'])"
      ]
    },
    {
      "cell_type": "code",
      "execution_count": null,
      "metadata": {
        "colab": {
          "base_uri": "https://localhost:8080/"
        },
        "id": "f2zq--9hv8s0",
        "outputId": "47c3bfa8-efa9-44f0-a1b3-296bb443024f"
      },
      "outputs": [
        {
          "output_type": "stream",
          "name": "stdout",
          "text": [
            "Model: \"model\"\n",
            "__________________________________________________________________________________________________\n",
            " Layer (type)                Output Shape                 Param #   Connected to                  \n",
            "==================================================================================================\n",
            " input_1 (InputLayer)        [(None, None)]               0         []                            \n",
            "                                                                                                  \n",
            " input_2 (InputLayer)        [(None, None)]               0         []                            \n",
            "                                                                                                  \n",
            " embedding (Embedding)       (None, None, 300)            1011240   ['input_1[0][0]']             \n",
            "                                                          0                                       \n",
            "                                                                                                  \n",
            " embedding_1 (Embedding)     (None, None, 300)            1224090   ['input_2[0][0]']             \n",
            "                                                          0                                       \n",
            "                                                                                                  \n",
            " lstm (LSTM)                 [(None, 300),                721200    ['embedding[0][0]']           \n",
            "                              (None, 300),                                                        \n",
            "                              (None, 300)]                                                        \n",
            "                                                                                                  \n",
            " lstm_1 (LSTM)               [(None, None, 300),          721200    ['embedding_1[0][0]',         \n",
            "                              (None, 300),                           'lstm[0][1]',                \n",
            "                              (None, 300)]                           'lstm[0][2]']                \n",
            "                                                                                                  \n",
            " dense (Dense)               (None, None, 40803)          1228170   ['lstm_1[0][0]']              \n",
            "                                                          3                                       \n",
            "                                                                                                  \n",
            "==================================================================================================\n",
            "Total params: 36077403 (137.62 MB)\n",
            "Trainable params: 36077403 (137.62 MB)\n",
            "Non-trainable params: 0 (0.00 Byte)\n",
            "__________________________________________________________________________________________________\n"
          ]
        }
      ],
      "source": [
        "model.summary()\n",
        "train_samples = len(X_train)\n",
        "val_samples = len(X_test)\n",
        "batch_size = 64\n",
        "epochs = 65"
      ]
    },
    {
      "cell_type": "code",
      "execution_count": null,
      "metadata": {
        "colab": {
          "base_uri": "https://localhost:8080/"
        },
        "id": "moIAhpybwAi4",
        "outputId": "ccdeb3ac-73ba-4b5f-b645-705307d4f0bd"
      },
      "outputs": [
        {
          "output_type": "stream",
          "name": "stderr",
          "text": [
            "<ipython-input-26-c1dc136bbe06>:1: UserWarning: `Model.fit_generator` is deprecated and will be removed in a future version. Please use `Model.fit`, which supports generators.\n",
            "  model.fit_generator(generator = generate_batch(X_train, y_train, batch_size = batch_size),\n"
          ]
        },
        {
          "output_type": "stream",
          "name": "stdout",
          "text": [
            "Epoch 1/65\n",
            "250/250 [==============================] - 140s 514ms/step - loss: 7.3267 - accuracy: 0.1141 - val_loss: 6.8390 - val_accuracy: 0.1204\n",
            "Epoch 2/65\n",
            "250/250 [==============================] - 123s 490ms/step - loss: 6.4288 - accuracy: 0.1370 - val_loss: 6.5927 - val_accuracy: 0.1439\n",
            "Epoch 3/65\n",
            "250/250 [==============================] - 102s 408ms/step - loss: 6.0551 - accuracy: 0.1598 - val_loss: 6.4413 - val_accuracy: 0.1614\n",
            "Epoch 4/65\n",
            "250/250 [==============================] - 101s 405ms/step - loss: 5.7185 - accuracy: 0.1801 - val_loss: 6.3454 - val_accuracy: 0.1722\n",
            "Epoch 5/65\n",
            "250/250 [==============================] - 121s 485ms/step - loss: 5.4151 - accuracy: 0.1979 - val_loss: 6.2972 - val_accuracy: 0.1814\n",
            "Epoch 6/65\n",
            "250/250 [==============================] - 121s 484ms/step - loss: 5.1423 - accuracy: 0.2133 - val_loss: 6.2575 - val_accuracy: 0.1871\n",
            "Epoch 7/65\n",
            "250/250 [==============================] - 101s 403ms/step - loss: 4.8831 - accuracy: 0.2296 - val_loss: 6.2417 - val_accuracy: 0.1940\n",
            "Epoch 8/65\n",
            "250/250 [==============================] - 121s 485ms/step - loss: 4.6404 - accuracy: 0.2463 - val_loss: 6.2662 - val_accuracy: 0.1983\n",
            "Epoch 9/65\n",
            "250/250 [==============================] - 121s 486ms/step - loss: 4.3959 - accuracy: 0.2631 - val_loss: 6.2647 - val_accuracy: 0.2026\n",
            "Epoch 10/65\n",
            "250/250 [==============================] - 121s 483ms/step - loss: 4.1575 - accuracy: 0.2821 - val_loss: 6.2567 - val_accuracy: 0.2081\n",
            "Epoch 11/65\n",
            "250/250 [==============================] - 121s 484ms/step - loss: 3.9230 - accuracy: 0.3055 - val_loss: 6.2976 - val_accuracy: 0.2063\n",
            "Epoch 12/65\n",
            "250/250 [==============================] - 101s 403ms/step - loss: 3.7014 - accuracy: 0.3327 - val_loss: 6.3021 - val_accuracy: 0.2145\n",
            "Epoch 13/65\n",
            "250/250 [==============================] - 120s 482ms/step - loss: 3.4802 - accuracy: 0.3627 - val_loss: 6.3411 - val_accuracy: 0.2143\n",
            "Epoch 14/65\n",
            "250/250 [==============================] - 121s 483ms/step - loss: 3.2759 - accuracy: 0.3928 - val_loss: 6.3558 - val_accuracy: 0.2180\n",
            "Epoch 15/65\n",
            "250/250 [==============================] - 121s 484ms/step - loss: 3.0778 - accuracy: 0.4232 - val_loss: 6.3993 - val_accuracy: 0.2197\n",
            "Epoch 16/65\n",
            "250/250 [==============================] - 121s 483ms/step - loss: 2.8880 - accuracy: 0.4538 - val_loss: 6.4357 - val_accuracy: 0.2178\n",
            "Epoch 17/65\n",
            "250/250 [==============================] - 101s 402ms/step - loss: 2.7152 - accuracy: 0.4819 - val_loss: 6.4940 - val_accuracy: 0.2163\n",
            "Epoch 18/65\n",
            "250/250 [==============================] - 120s 482ms/step - loss: 2.5480 - accuracy: 0.5098 - val_loss: 6.5247 - val_accuracy: 0.2177\n",
            "Epoch 19/65\n",
            "250/250 [==============================] - 120s 482ms/step - loss: 2.3965 - accuracy: 0.5353 - val_loss: 6.5309 - val_accuracy: 0.2240\n",
            "Epoch 20/65\n",
            "250/250 [==============================] - 100s 402ms/step - loss: 2.2447 - accuracy: 0.5623 - val_loss: 6.5863 - val_accuracy: 0.2279\n",
            "Epoch 21/65\n",
            "250/250 [==============================] - 120s 480ms/step - loss: 2.1037 - accuracy: 0.5878 - val_loss: 6.6338 - val_accuracy: 0.2257\n",
            "Epoch 22/65\n",
            "250/250 [==============================] - 100s 400ms/step - loss: 1.9673 - accuracy: 0.6136 - val_loss: 6.6702 - val_accuracy: 0.2265\n",
            "Epoch 23/65\n",
            "250/250 [==============================] - 101s 403ms/step - loss: 1.8308 - accuracy: 0.6391 - val_loss: 6.7441 - val_accuracy: 0.2285\n",
            "Epoch 24/65\n",
            "250/250 [==============================] - 100s 402ms/step - loss: 1.7013 - accuracy: 0.6641 - val_loss: 6.8120 - val_accuracy: 0.2313\n",
            "Epoch 25/65\n",
            "250/250 [==============================] - 100s 402ms/step - loss: 1.5839 - accuracy: 0.6883 - val_loss: 6.8856 - val_accuracy: 0.2258\n",
            "Epoch 26/65\n",
            "250/250 [==============================] - 121s 483ms/step - loss: 1.4729 - accuracy: 0.7099 - val_loss: 6.9403 - val_accuracy: 0.2257\n",
            "Epoch 27/65\n",
            "250/250 [==============================] - 100s 401ms/step - loss: 1.3719 - accuracy: 0.7300 - val_loss: 7.0007 - val_accuracy: 0.2268\n",
            "Epoch 28/65\n",
            "250/250 [==============================] - 101s 404ms/step - loss: 1.2701 - accuracy: 0.7506 - val_loss: 7.0820 - val_accuracy: 0.2265\n",
            "Epoch 29/65\n",
            "250/250 [==============================] - 120s 482ms/step - loss: 1.1722 - accuracy: 0.7717 - val_loss: 7.1510 - val_accuracy: 0.2309\n",
            "Epoch 30/65\n",
            "250/250 [==============================] - 120s 481ms/step - loss: 1.0841 - accuracy: 0.7904 - val_loss: 7.1902 - val_accuracy: 0.2305\n",
            "Epoch 31/65\n",
            "250/250 [==============================] - 99s 398ms/step - loss: 1.0032 - accuracy: 0.8069 - val_loss: 7.2804 - val_accuracy: 0.2234\n",
            "Epoch 32/65\n",
            "250/250 [==============================] - 100s 399ms/step - loss: 0.9213 - accuracy: 0.8240 - val_loss: 7.3458 - val_accuracy: 0.2256\n",
            "Epoch 33/65\n",
            "250/250 [==============================] - 99s 397ms/step - loss: 0.8470 - accuracy: 0.8392 - val_loss: 7.4216 - val_accuracy: 0.2305\n",
            "Epoch 34/65\n",
            "250/250 [==============================] - 120s 480ms/step - loss: 0.7796 - accuracy: 0.8546 - val_loss: 7.4741 - val_accuracy: 0.2291\n",
            "Epoch 35/65\n",
            "250/250 [==============================] - 100s 399ms/step - loss: 0.7154 - accuracy: 0.8680 - val_loss: 7.5304 - val_accuracy: 0.2323\n",
            "Epoch 36/65\n",
            "250/250 [==============================] - 120s 482ms/step - loss: 0.6527 - accuracy: 0.8819 - val_loss: 7.5889 - val_accuracy: 0.2337\n",
            "Epoch 37/65\n",
            "250/250 [==============================] - 120s 482ms/step - loss: 0.5925 - accuracy: 0.8945 - val_loss: 7.6900 - val_accuracy: 0.2349\n",
            "Epoch 38/65\n",
            "250/250 [==============================] - 100s 401ms/step - loss: 0.5370 - accuracy: 0.9066 - val_loss: 7.7778 - val_accuracy: 0.2351\n",
            "Epoch 39/65\n",
            "250/250 [==============================] - 100s 402ms/step - loss: 0.4824 - accuracy: 0.9188 - val_loss: 7.8393 - val_accuracy: 0.2303\n",
            "Epoch 40/65\n",
            "250/250 [==============================] - 101s 405ms/step - loss: 0.4364 - accuracy: 0.9287 - val_loss: 7.9146 - val_accuracy: 0.2277\n",
            "Epoch 41/65\n",
            "250/250 [==============================] - 121s 485ms/step - loss: 0.3976 - accuracy: 0.9366 - val_loss: 7.9698 - val_accuracy: 0.2291\n",
            "Epoch 42/65\n",
            "250/250 [==============================] - 101s 403ms/step - loss: 0.3608 - accuracy: 0.9442 - val_loss: 8.0856 - val_accuracy: 0.2305\n",
            "Epoch 43/65\n",
            "250/250 [==============================] - 100s 401ms/step - loss: 0.3280 - accuracy: 0.9507 - val_loss: 8.1537 - val_accuracy: 0.2298\n",
            "Epoch 44/65\n",
            "250/250 [==============================] - 120s 481ms/step - loss: 0.2930 - accuracy: 0.9577 - val_loss: 8.2277 - val_accuracy: 0.2254\n",
            "Epoch 45/65\n",
            "250/250 [==============================] - 101s 404ms/step - loss: 0.2632 - accuracy: 0.9636 - val_loss: 8.3071 - val_accuracy: 0.2304\n",
            "Epoch 46/65\n",
            "250/250 [==============================] - 120s 482ms/step - loss: 0.2324 - accuracy: 0.9703 - val_loss: 8.4358 - val_accuracy: 0.2308\n",
            "Epoch 47/65\n",
            "250/250 [==============================] - 102s 407ms/step - loss: 0.2055 - accuracy: 0.9751 - val_loss: 8.5085 - val_accuracy: 0.2286\n",
            "Epoch 48/65\n",
            "250/250 [==============================] - 101s 406ms/step - loss: 0.1817 - accuracy: 0.9797 - val_loss: 8.5745 - val_accuracy: 0.2246\n",
            "Epoch 49/65\n",
            "250/250 [==============================] - 121s 483ms/step - loss: 0.1592 - accuracy: 0.9836 - val_loss: 8.6464 - val_accuracy: 0.2247\n",
            "Epoch 50/65\n",
            "250/250 [==============================] - 101s 402ms/step - loss: 0.1389 - accuracy: 0.9869 - val_loss: 8.6923 - val_accuracy: 0.2240\n",
            "Epoch 51/65\n",
            "250/250 [==============================] - 100s 401ms/step - loss: 0.1209 - accuracy: 0.9897 - val_loss: 8.7657 - val_accuracy: 0.2265\n",
            "Epoch 52/65\n",
            "250/250 [==============================] - 121s 483ms/step - loss: 0.1071 - accuracy: 0.9916 - val_loss: 8.8638 - val_accuracy: 0.2287\n",
            "Epoch 53/65\n",
            "250/250 [==============================] - 99s 398ms/step - loss: 0.0961 - accuracy: 0.9928 - val_loss: 8.9264 - val_accuracy: 0.2294\n",
            "Epoch 54/65\n",
            "250/250 [==============================] - 120s 479ms/step - loss: 0.0858 - accuracy: 0.9938 - val_loss: 8.9759 - val_accuracy: 0.2310\n",
            "Epoch 55/65\n",
            "250/250 [==============================] - 100s 399ms/step - loss: 0.0751 - accuracy: 0.9951 - val_loss: 9.0734 - val_accuracy: 0.2304\n",
            "Epoch 56/65\n",
            "250/250 [==============================] - 100s 398ms/step - loss: 0.0662 - accuracy: 0.9960 - val_loss: 9.1239 - val_accuracy: 0.2326\n",
            "Epoch 57/65\n",
            "250/250 [==============================] - 100s 400ms/step - loss: 0.0593 - accuracy: 0.9966 - val_loss: 9.1885 - val_accuracy: 0.2305\n",
            "Epoch 58/65\n",
            "250/250 [==============================] - 120s 480ms/step - loss: 0.0531 - accuracy: 0.9968 - val_loss: 9.2379 - val_accuracy: 0.2295\n",
            "Epoch 59/65\n",
            "250/250 [==============================] - 100s 401ms/step - loss: 0.0471 - accuracy: 0.9971 - val_loss: 9.2927 - val_accuracy: 0.2307\n",
            "Epoch 60/65\n",
            "250/250 [==============================] - 100s 402ms/step - loss: 0.0415 - accuracy: 0.9976 - val_loss: 9.4269 - val_accuracy: 0.2337\n",
            "Epoch 61/65\n",
            "250/250 [==============================] - 120s 480ms/step - loss: 0.0372 - accuracy: 0.9977 - val_loss: 9.4534 - val_accuracy: 0.2323\n",
            "Epoch 62/65\n",
            "250/250 [==============================] - 100s 401ms/step - loss: 0.0335 - accuracy: 0.9978 - val_loss: 9.5093 - val_accuracy: 0.2311\n",
            "Epoch 63/65\n",
            "250/250 [==============================] - 100s 399ms/step - loss: 0.0309 - accuracy: 0.9978 - val_loss: 9.5934 - val_accuracy: 0.2317\n",
            "Epoch 64/65\n",
            "250/250 [==============================] - 120s 482ms/step - loss: 0.0280 - accuracy: 0.9980 - val_loss: 9.6589 - val_accuracy: 0.2332\n",
            "Epoch 65/65\n",
            "250/250 [==============================] - 120s 481ms/step - loss: 0.0271 - accuracy: 0.9977 - val_loss: 9.7291 - val_accuracy: 0.2309\n"
          ]
        },
        {
          "output_type": "execute_result",
          "data": {
            "text/plain": [
              "<keras.src.callbacks.History at 0x7d4398392f20>"
            ]
          },
          "metadata": {},
          "execution_count": 26
        }
      ],
      "source": [
        "model.fit_generator(generator = generate_batch(X_train, y_train, batch_size = batch_size),\n",
        "                    steps_per_epoch = train_samples//batch_size,\n",
        "                    epochs=65,\n",
        "                    validation_data = generate_batch(X_test, y_test, batch_size = batch_size),\n",
        "                    validation_steps = val_samples//batch_size)"
      ]
    },
    {
      "cell_type": "code",
      "execution_count": null,
      "metadata": {
        "colab": {
          "base_uri": "https://localhost:8080/"
        },
        "id": "uOWqB1iZwFri",
        "outputId": "e1aed0bf-6a89-4672-ab83-32e05def30d1"
      },
      "outputs": [
        {
          "output_type": "stream",
          "name": "stderr",
          "text": [
            "/usr/local/lib/python3.10/dist-packages/keras/src/engine/training.py:3103: UserWarning: You are saving your model as an HDF5 file via `model.save()`. This file format is considered legacy. We recommend using instead the native Keras format, e.g. `model.save('my_model.keras')`.\n",
            "  saving_api.save_model(\n"
          ]
        }
      ],
      "source": [
        "model.save('eng-to-hindi.h5')"
      ]
    },
    {
      "cell_type": "code",
      "execution_count": null,
      "metadata": {
        "id": "HTfEV-0FfLZo"
      },
      "outputs": [],
      "source": [
        "train_gen = generate_batch(X_train, y_train, batch_size = 1)\n",
        "k=-1"
      ]
    },
    {
      "cell_type": "code",
      "execution_count": null,
      "metadata": {
        "id": "JT45LtEXfRZP"
      },
      "outputs": [],
      "source": [
        "encoder_model = Model(encoder_inputs, encoder_states)\n",
        "\n",
        "# Decoder setup\n",
        "# Below tensors will hold the states of the previous time step\n",
        "decoder_state_input_h = Input(shape=(latent_dim,))\n",
        "decoder_state_input_c = Input(shape=(latent_dim,))\n",
        "decoder_states_inputs = [decoder_state_input_h, decoder_state_input_c]\n",
        "\n",
        "dec_emb2= dec_emb_layer(decoder_inputs) # Get the embeddings of the decoder sequence\n",
        "\n",
        "# To predict the next word in the sequence, set the initial states to the states from the previous time step\n",
        "decoder_outputs2, state_h2, state_c2 = decoder_lstm(dec_emb2, initial_state=decoder_states_inputs)\n",
        "decoder_states2 = [state_h2, state_c2]\n",
        "decoder_outputs2 = decoder_dense(decoder_outputs2) # A dense softmax layer to generate prob dist. over the target vocabulary\n",
        "\n",
        "# Final decoder model\n",
        "decoder_model = Model(\n",
        "    [decoder_inputs] + decoder_states_inputs,\n",
        "    [decoder_outputs2] + decoder_states2)"
      ]
    },
    {
      "cell_type": "code",
      "execution_count": null,
      "metadata": {
        "id": "Gj1PkzwzfZq4"
      },
      "outputs": [],
      "source": [
        "def decode_sequence(input_seq):\n",
        "    states_value = encoder_model.predict(input_seq)\n",
        "    target_seq = np.zeros((1,1))\n",
        "    target_seq[0, 0] = target_token_index['START_']\n",
        "\n",
        "    stop_condition = False\n",
        "    decoded_sentence = ''\n",
        "    while not stop_condition:\n",
        "        output_tokens, h, c = decoder_model.predict([target_seq] + states_value)\n",
        "\n",
        "        sampled_token_index = np.argmax(output_tokens[0, -1, :])\n",
        "        sampled_char = reverse_target_char_index[sampled_token_index]\n",
        "        decoded_sentence += ' '+sampled_char\n",
        "\n",
        "        if (sampled_char == '_END' or\n",
        "           len(decoded_sentence) > 75):\n",
        "            stop_condition = True\n",
        "\n",
        "        target_seq = np.zeros((1,1))\n",
        "        target_seq[0, 0] = sampled_token_index\n",
        "\n",
        "        states_value = [h, c]\n",
        "\n",
        "    return decoded_sentence"
      ]
    },
    {
      "cell_type": "code",
      "execution_count": null,
      "metadata": {
        "colab": {
          "base_uri": "https://localhost:8080/"
        },
        "id": "q6SuLDoPffTS",
        "outputId": "b700ce66-fe4c-4bab-c327-42bf871c814c"
      },
      "outputs": [
        {
          "output_type": "stream",
          "name": "stdout",
          "text": [
            "1/1 [==============================] - 0s 30ms/step\n",
            "1/1 [==============================] - 0s 32ms/step\n",
            "1/1 [==============================] - 0s 32ms/step\n",
            "1/1 [==============================] - 0s 34ms/step\n",
            "1/1 [==============================] - 0s 33ms/step\n",
            "1/1 [==============================] - 0s 20ms/step\n",
            "1/1 [==============================] - 0s 19ms/step\n",
            "Input English sentence: hindu philosophy of unity\n",
            "Actual Hindi Translation:  हिन्दुत्व एकत्व का दर्शन है \n",
            "Predicted Hindi Translation:  हिन्दुत्व एकत्व का दर्शन है \n"
          ]
        }
      ],
      "source": [
        "k+=1\n",
        "(input_seq, actual_output), _ = next(train_gen)\n",
        "decoded_sentence = decode_sequence(input_seq)\n",
        "print('Input English sentence:', X_train[k:k+1].values[0])\n",
        "print('Actual Hindi Translation:', y_train[k:k+1].values[0][6:-4])\n",
        "print('Predicted Hindi Translation:', decoded_sentence[:-4])"
      ]
    },
    {
      "cell_type": "code",
      "execution_count": null,
      "metadata": {
        "colab": {
          "base_uri": "https://localhost:8080/"
        },
        "id": "pNyeKAbpfp_m",
        "outputId": "515e761e-d495-4823-9a78-840032444d84"
      },
      "outputs": [
        {
          "output_type": "stream",
          "name": "stdout",
          "text": [
            "1/1 [==============================] - 0s 18ms/step\n",
            "1/1 [==============================] - 0s 19ms/step\n",
            "1/1 [==============================] - 0s 18ms/step\n",
            "1/1 [==============================] - 0s 20ms/step\n",
            "1/1 [==============================] - 0s 18ms/step\n",
            "1/1 [==============================] - 0s 19ms/step\n",
            "1/1 [==============================] - 0s 20ms/step\n",
            "Input English sentence: to stand up and join in\n",
            "Actual Hindi Translation:  पहल करने का दम दिखाइये \n",
            "Predicted Hindi Translation:  पहल करने का दम दिखाइये \n"
          ]
        }
      ],
      "source": [
        "k+=1\n",
        "(input_seq, actual_output), _ = next(train_gen)\n",
        "decoded_sentence = decode_sequence(input_seq)\n",
        "print('Input English sentence:', X_train[k:k+1].values[0])\n",
        "print('Actual Hindi Translation:', y_train[k:k+1].values[0][6:-4])\n",
        "print('Predicted Hindi Translation:', decoded_sentence[:-4])"
      ]
    },
    {
      "cell_type": "code",
      "execution_count": null,
      "metadata": {
        "id": "W6sN9t_qg8NM",
        "colab": {
          "base_uri": "https://localhost:8080/"
        },
        "outputId": "5570d7b2-d59a-4d80-e309-3b586fb09388"
      },
      "outputs": [
        {
          "output_type": "stream",
          "name": "stdout",
          "text": [
            "1/1 [==============================] - 0s 20ms/step\n",
            "1/1 [==============================] - 0s 19ms/step\n",
            "1/1 [==============================] - 0s 19ms/step\n",
            "1/1 [==============================] - 0s 19ms/step\n",
            "1/1 [==============================] - 0s 20ms/step\n",
            "1/1 [==============================] - 0s 24ms/step\n",
            "1/1 [==============================] - 0s 20ms/step\n",
            "1/1 [==============================] - 0s 19ms/step\n",
            "1/1 [==============================] - 0s 18ms/step\n",
            "1/1 [==============================] - 0s 20ms/step\n",
            "1/1 [==============================] - 0s 19ms/step\n",
            "1/1 [==============================] - 0s 22ms/step\n",
            "1/1 [==============================] - 0s 23ms/step\n",
            "1/1 [==============================] - 0s 19ms/step\n",
            "1/1 [==============================] - 0s 20ms/step\n",
            "1/1 [==============================] - 0s 20ms/step\n",
            "1/1 [==============================] - 0s 20ms/step\n",
            "1/1 [==============================] - 0s 19ms/step\n",
            "1/1 [==============================] - 0s 18ms/step\n",
            "Input English sentence: i turn around but its not a child its a young woman\n",
            "Actual Hindi Translation:  मैं मुड़ती हूँ पर वो मेरी बच्ची नहीं है एक युवा स्त्री है \n",
            "Predicted Hindi Translation:  मैं मुड़ती हूँ पर वो सही है कि वास्तव में कुछ महेसुस कर दिया यह लगाना है \n"
          ]
        }
      ],
      "source": [
        "k+=1\n",
        "(input_seq, actual_output), _ = next(train_gen)\n",
        "decoded_sentence = decode_sequence(input_seq)\n",
        "print('Input English sentence:', X_train[k:k+1].values[0])\n",
        "print('Actual Hindi Translation:', y_train[k:k+1].values[0][6:-4])\n",
        "print('Predicted Hindi Translation:', decoded_sentence[:-4])"
      ]
    },
    {
      "cell_type": "code",
      "source": [],
      "metadata": {
        "id": "9Zvk2v9RY7MX"
      },
      "execution_count": null,
      "outputs": []
    }
  ],
  "metadata": {
    "accelerator": "GPU",
    "colab": {
      "gpuType": "T4",
      "provenance": []
    },
    "kernelspec": {
      "display_name": "Python 3",
      "name": "python3"
    },
    "language_info": {
      "name": "python"
    }
  },
  "nbformat": 4,
  "nbformat_minor": 0
}